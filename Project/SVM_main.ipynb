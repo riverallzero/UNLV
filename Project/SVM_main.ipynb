{
  "nbformat": 4,
  "nbformat_minor": 0,
  "metadata": {
    "colab": {
      "provenance": []
    },
    "kernelspec": {
      "name": "python3",
      "display_name": "Python 3"
    },
    "language_info": {
      "name": "python"
    }
  },
  "cells": [
    {
      "cell_type": "markdown",
      "source": [
        "## SVM with scikit-learn"
      ],
      "metadata": {
        "id": "3dzSMMwx8Y3M"
      }
    },
    {
      "cell_type": "code",
      "source": [
        "import pandas as pd\n",
        "from sklearn.model_selection import train_test_split\n",
        "from sklearn.metrics import roc_auc_score\n",
        "from sklearn.preprocessing import LabelEncoder, StandardScaler\n",
        "from sklearn import svm\n",
        "from sklearn.utils import resample\n",
        "\n",
        "import time\n",
        "\n",
        "import seaborn as sns\n",
        "import matplotlib.pyplot as plt\n",
        "\n",
        "\n",
        "def main():\n",
        "    df = pd.read_csv(\"/content/drive/MyDrive/UNLV/train.csv\")\n",
        "    df.drop([\"Id\"], axis=1, inplace=True)\n",
        "\n",
        "    df.columns = map(str.lower, df.columns)\n",
        "    df.rename(columns={\"married/single\": \"married_single\"}, inplace=True)\n",
        "\n",
        "    # --------------------\n",
        "    # Category cols to num\n",
        "    cate_cols = [\"married_single\", \"profession\", \"house_ownership\", \"car_ownership\", \"city\", \"state\"]\n",
        "\n",
        "    for col in cate_cols:\n",
        "        le = LabelEncoder()\n",
        "        le = le.fit(df[col])\n",
        "        df[col] = le.transform(df[col])\n",
        "\n",
        "    print(\"Label Encoding-Done.\")\n",
        "\n",
        "    # --------------------\n",
        "    # Down sampling\n",
        "    subset_0 = df[df[\"risk_flag\"] == 0]\n",
        "    subset_1 = df[df[\"risk_flag\"] == 1]\n",
        "\n",
        "    subset_0_downsampled = resample(subset_0,\n",
        "                                    replace=False,\n",
        "                                    n_samples=len(subset_1),\n",
        "                                    random_state=42)\n",
        "\n",
        "    df = pd.concat([subset_0_downsampled, subset_1])\n",
        "\n",
        "    print(\"Down Sampling-Done.\")\n",
        "\n",
        "    X = df.drop([\"risk_flag\"], axis=1)\n",
        "    y = df[\"risk_flag\"].apply(lambda x: int(x))\n",
        "\n",
        "    # --------------------\n",
        "    # Data split\n",
        "    X_train_val, X_test, y_train_val, y_test = train_test_split(X, y, test_size=0.2, stratify=y, random_state=42)\n",
        "    X_train, X_val, y_train, y_val = train_test_split(X_train_val, y_train_val, test_size=0.2, stratify=y_train_val, random_state=42)\n",
        "\n",
        "    # --------------------\n",
        "    # StandardScaler\n",
        "    scaler = StandardScaler()\n",
        "\n",
        "    X_train_scaled = scaler.fit_transform(X_train)\n",
        "    X_val_scaled = scaler.transform(X_val)\n",
        "    X_test_scaled = scaler.transform(X_test)\n",
        "\n",
        "    print(\"Scaling-Done.\")\n",
        "\n",
        "    clf = svm.SVC(max_iter=100000) # max_iter: default -1\n",
        "\n",
        "    # --------------------\n",
        "    # Start: training\n",
        "    start_time = time.time()\n",
        "\n",
        "    clf.fit(X_train_scaled, y_train)\n",
        "\n",
        "    # End: training\n",
        "    end_time = time.time()\n",
        "    # Calculate training time\n",
        "    elapsed_time = end_time - start_time\n",
        "\n",
        "    val_pred = clf.predict(X_val_scaled)\n",
        "    test_pred = clf.predict(X_test_scaled)\n",
        "\n",
        "    val_auc = roc_auc_score(y_val, val_pred)\n",
        "    test_auc = roc_auc_score(y_test, test_pred)\n",
        "\n",
        "    print(f\"\\nVal AUC = {val_auc}\")\n",
        "    print(f\"Test AUC = {test_auc}\")\n",
        "    print(f\"Elapsed Time: {elapsed_time // 60} min {elapsed_time % 60:.2f} sec\")\n",
        "\n",
        "\n",
        "if __name__ == \"__main__\":\n",
        "    main()"
      ],
      "metadata": {
        "colab": {
          "base_uri": "https://localhost:8080/"
        },
        "id": "hAecy_CQ8bOx",
        "outputId": "af7011b3-2267-41bd-9fad-bf7cea865485"
      },
      "execution_count": 11,
      "outputs": [
        {
          "output_type": "stream",
          "name": "stdout",
          "text": [
            "Label Encoding-Done.\n",
            "Down Sampling-Done.\n",
            "Scaling-Done.\n",
            "\n",
            "Val AUC = 0.6444148469059189\n",
            "Test AUC = 0.6394106749787947\n",
            "Elapsed Time: 1.0 min 40.02 sec\n"
          ]
        }
      ]
    },
    {
      "cell_type": "markdown",
      "source": [
        "## SVM with pyspark"
      ],
      "metadata": {
        "id": "murZxQLw8kNf"
      }
    },
    {
      "cell_type": "code",
      "source": [
        "!pip install pyspark"
      ],
      "metadata": {
        "id": "kmdu4Y9mt1fh",
        "colab": {
          "base_uri": "https://localhost:8080/"
        },
        "outputId": "f3bf1b34-9a49-4010-fc14-ac672f5b6956"
      },
      "execution_count": 4,
      "outputs": [
        {
          "output_type": "stream",
          "name": "stdout",
          "text": [
            "Collecting pyspark\n",
            "  Downloading pyspark-3.4.1.tar.gz (310.8 MB)\n",
            "\u001b[2K     \u001b[90m━━━━━━━━━━━━━━━━━━━━━━━━━━━━━━━━━━━━━━━\u001b[0m \u001b[32m310.8/310.8 MB\u001b[0m \u001b[31m4.8 MB/s\u001b[0m eta \u001b[36m0:00:00\u001b[0m\n",
            "\u001b[?25h  Preparing metadata (setup.py) ... \u001b[?25l\u001b[?25hdone\n",
            "Requirement already satisfied: py4j==0.10.9.7 in /usr/local/lib/python3.10/dist-packages (from pyspark) (0.10.9.7)\n",
            "Building wheels for collected packages: pyspark\n",
            "  Building wheel for pyspark (setup.py) ... \u001b[?25l\u001b[?25hdone\n",
            "  Created wheel for pyspark: filename=pyspark-3.4.1-py2.py3-none-any.whl size=311285398 sha256=5fc9a6a2d07b2ba00bc8a07ae46fefcf918547072c0381c39a6d4589d17c6c92\n",
            "  Stored in directory: /root/.cache/pip/wheels/0d/77/a3/ff2f74cc9ab41f8f594dabf0579c2a7c6de920d584206e0834\n",
            "Successfully built pyspark\n",
            "Installing collected packages: pyspark\n",
            "Successfully installed pyspark-3.4.1\n"
          ]
        }
      ]
    },
    {
      "cell_type": "code",
      "source": [
        "from pyspark.sql import SparkSession\n",
        "from pyspark.ml.classification import LinearSVC\n",
        "from pyspark.ml.evaluation import BinaryClassificationEvaluator\n",
        "from pyspark.ml.feature import VectorAssembler, StandardScaler, StringIndexer\n",
        "from pyspark.ml import Pipeline\n",
        "from pyspark.sql.functions import col as scol\n",
        "from pyspark.sql.functions import rand\n",
        "import time\n",
        "\n",
        "def main():\n",
        "    spark = SparkSession.builder.appName(\"UNLV\").getOrCreate()\n",
        "\n",
        "    df = spark.read.csv(\"/content/drive/MyDrive/UNLV/train.csv\", header=True, inferSchema=True)\n",
        "    df = df.drop(\"Id\").withColumnRenamed(\"married/single\", \"married_single\")\n",
        "    df = df.toDF(*(col.lower() for col in df.columns))\n",
        "    df = df.withColumn(\"risk_flag\", scol(\"risk_flag\").cast(\"integer\"))\n",
        "\n",
        "    # --------------------\n",
        "    # Category cols to num\n",
        "    cate_cols = [\"married_single\", \"profession\", \"house_ownership\", \"car_ownership\", \"city\", \"state\"]\n",
        "\n",
        "    indexers = [StringIndexer(inputCol=col, outputCol=col + \"_idx\").fit(df) for col in cate_cols]\n",
        "\n",
        "    pipeline = Pipeline(stages=indexers)\n",
        "    df = pipeline.fit(df).transform(df)\n",
        "    df = df.drop(*cate_cols)\n",
        "\n",
        "    print(\"Label Encoding-Done.\")\n",
        "\n",
        "    assembler = VectorAssembler(\n",
        "        inputCols=[col for col in df.columns if col != \"risk_flag\"],\n",
        "        outputCol=\"origin_features\"\n",
        "    )\n",
        "    df = assembler.transform(df)\n",
        "    df = df.select([\"origin_features\", \"risk_flag\"])\n",
        "\n",
        "    # --------------------\n",
        "    # Down sampling\n",
        "    pos_count = df.filter(\"risk_flag = 1\").count()\n",
        "    neg_df = df.filter(\"risk_flag = 0\")\n",
        "    sampled_neg_df = neg_df.orderBy(rand(seed=42)).limit(pos_count)\n",
        "    df = sampled_neg_df.union(df.filter(\"risk_flag = 1\"))\n",
        "\n",
        "    print(\"Down Sampling-Done.\")\n",
        "\n",
        "    # --------------------\n",
        "    # Data split\n",
        "    df_risk_0 = df.filter(scol(\"risk_flag\") == 0)\n",
        "    df_risk_1 = df.filter(scol(\"risk_flag\") == 1)\n",
        "\n",
        "    train_val_risk_0, test_risk_0 = df_risk_0.randomSplit([0.8, 0.2], seed=42)\n",
        "    train_val_risk_1, test_risk_1 = df_risk_1.randomSplit([0.8, 0.2], seed=42)\n",
        "\n",
        "    train_val = train_val_risk_0.union(train_val_risk_1)\n",
        "    test = test_risk_0.union(test_risk_1)\n",
        "\n",
        "    train_risk_0, val_risk_0 = train_val_risk_0.randomSplit([0.8, 0.2], seed=42)\n",
        "    train_risk_1, val_risk_1 = train_val_risk_1.randomSplit([0.8, 0.2], seed=42)\n",
        "\n",
        "    train = train_risk_0.union(train_risk_1)\n",
        "    val = val_risk_0.union(val_risk_1)\n",
        "\n",
        "    # print(train.groupBy(\"risk_flag\").count().show())\n",
        "    # print(val.groupBy(\"risk_flag\").count().show())\n",
        "    # print(test.groupBy(\"risk_flag\").count().show())\n",
        "\n",
        "    # --------------------\n",
        "    # StandardScaler\n",
        "    scaler = StandardScaler(inputCol=\"origin_features\", outputCol=\"features\")\n",
        "    scaler_model = scaler.fit(train)\n",
        "    train_scaled = scaler_model.transform(train)\n",
        "    val_scaled = scaler_model.transform(val)\n",
        "    test_scaled = scaler_model.transform(test)\n",
        "\n",
        "    train_scaled = train_scaled.select([\"features\", \"risk_flag\"])\n",
        "    val_scaled = val_scaled.select([\"features\", \"risk_flag\"])\n",
        "    test_scaled = test_scaled.select([\"features\", \"risk_flag\"])\n",
        "\n",
        "    print(\"Scaling-Done.\")\n",
        "\n",
        "    svm = LinearSVC(labelCol=\"risk_flag\", maxIter=100000)  # maxIter: default 100\n",
        "\n",
        "    # --------------------\n",
        "    # Start: training\n",
        "    start_time = time.time()\n",
        "\n",
        "    model = svm.fit(train_scaled)\n",
        "\n",
        "    # End: training\n",
        "    end_time = time.time()\n",
        "    # Calculate training time\n",
        "    elapsed_time = end_time - start_time\n",
        "\n",
        "    val_preds = model.transform(val_scaled)\n",
        "    test_preds = model.transform(test_scaled)\n",
        "\n",
        "    evaluator = BinaryClassificationEvaluator(labelCol=\"risk_flag\", metricName=\"areaUnderROC\")\n",
        "    val_auc = evaluator.evaluate(val_preds)\n",
        "    test_auc = evaluator.evaluate(test_preds)\n",
        "\n",
        "    print(f\"\\nVal AUC = {val_auc}\")\n",
        "    print(f\"Test AUC = {test_auc}\")\n",
        "    print(f\"Elapsed Time: {elapsed_time // 60} min {elapsed_time % 60:.2f} sec\")\n",
        "\n",
        "\n",
        "if __name__ == \"__main__\":\n",
        "    main()"
      ],
      "metadata": {
        "colab": {
          "base_uri": "https://localhost:8080/"
        },
        "id": "Ebv3cfJ0xIr1",
        "outputId": "ce7e3dac-aadd-41a3-b4c7-d8fae588c0de"
      },
      "execution_count": 12,
      "outputs": [
        {
          "output_type": "stream",
          "name": "stdout",
          "text": [
            "Label Encoding-Done.\n",
            "Down Sampling-Done.\n",
            "Scaling-Done.\n",
            "\n",
            "Val AUC = 0.5571115341365019\n",
            "Test AUC = 0.548107129030474\n",
            "Elapsed Time: 0.0 min 57.80 sec\n"
          ]
        }
      ]
    }
  ]
}
